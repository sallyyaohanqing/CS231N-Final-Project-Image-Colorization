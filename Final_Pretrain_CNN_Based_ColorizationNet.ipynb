{
  "nbformat": 4,
  "nbformat_minor": 0,
  "metadata": {
    "colab": {
      "name": "Final_Pretrain_CNN_Based_ColorizationNet.ipynb",
      "provenance": [],
      "collapsed_sections": []
    },
    "kernelspec": {
      "name": "python3",
      "display_name": "Python 3"
    },
    "language_info": {
      "name": "python"
    },
    "accelerator": "GPU"
  },
  "cells": [
    {
      "cell_type": "markdown",
      "source": [
        "# Pretrained CNN-Based Image Colorization Net model"
      ],
      "metadata": {
        "id": "6bbTj2j2CDx2"
      }
    },
    {
      "cell_type": "markdown",
      "source": [
        "This colab file includes codes to train CNN model for Image Colorization task.\n",
        "The CNN model combines the downsampling convolutional layers from pretrained model such as ResNet18, AlexNet, and VGG16 with customized upsampling layers.\n",
        "Image data are trained using Lab channels where we use L channel as input and ab channels as target."
      ],
      "metadata": {
        "id": "1gD0lxI19aCb"
      }
    },
    {
      "cell_type": "markdown",
      "source": [
        "### Acknowledgement:\n",
        "The model architecture is inspired by Luke Melas-Kyriazi's blog post $\\textbf{Image Colorization with Convolutional Neural Networks}$: https://lukemelas.github.io/image-colorization.html. Parts of the codes are modified based on the codes the author shared in the blog post and Github: https://github.com/lukemelas/Automatic-Image-Colorization/."
      ],
      "metadata": {
        "id": "a99r7EeCCT00"
      }
    },
    {
      "cell_type": "code",
      "source": [
        "# Download and import libraries\n",
        "!pip install torch torchvision matplotlib numpy scikit-image pillow==4.1.1"
      ],
      "metadata": {
        "id": "aH0dC6LHNLBI"
      },
      "execution_count": null,
      "outputs": []
    },
    {
      "cell_type": "code",
      "source": [
        "!pip install https://github.com/CellProfiling/HPA-Cell-Segmentation/archive/master.zip"
      ],
      "metadata": {
        "id": "ZTgtf52KPc-H"
      },
      "execution_count": null,
      "outputs": []
    },
    {
      "cell_type": "code",
      "source": [
        "!pip install Pillow==9.0.0"
      ],
      "metadata": {
        "id": "ExoNR3xh1Rwo",
        "colab": {
          "base_uri": "https://localhost:8080/"
        },
        "outputId": "c0cfed1f-b75f-4647-a3c6-0b5a42e55961"
      },
      "execution_count": null,
      "outputs": [
        {
          "output_type": "stream",
          "name": "stdout",
          "text": [
            "Looking in indexes: https://pypi.org/simple, https://us-python.pkg.dev/colab-wheels/public/simple/\n",
            "Requirement already satisfied: Pillow==9.0.0 in /usr/local/lib/python3.7/dist-packages (9.0.0)\n"
          ]
        }
      ]
    },
    {
      "cell_type": "code",
      "source": [
        "# unzip file\n",
        "import zipfile\n",
        "from google.colab import drive\n",
        "\n",
        "drive.mount('/content/drive')\n",
        "\n",
        "zip_ref = zipfile.ZipFile(\"/content/drive/MyDrive/colorization/tiny-imagenet-200.zip\", 'r')\n",
        "zip_ref.extractall(\".\")\n",
        "zip_ref.close()"
      ],
      "metadata": {
        "id": "YDIPLSOyi-jH"
      },
      "execution_count": null,
      "outputs": []
    },
    {
      "cell_type": "code",
      "source": [
        "import numpy as np\n",
        "# For plotting\n",
        "import matplotlib.pyplot as plt\n",
        "%matplotlib inline\n",
        "# For conversion between RGB channel and Lab channel\n",
        "from skimage.color import lab2rgb, rgb2lab, rgb2gray\n",
        "from skimage import io\n",
        "# For CNN model\n",
        "import torch\n",
        "import torch.nn as nn\n",
        "import torch.nn.functional as F\n",
        "import torchvision.models as models\n",
        "from torchvision import datasets, transforms\n",
        "# For utilities\n",
        "import os, shutil, time"
      ],
      "metadata": {
        "id": "ZEimdho-NS03"
      },
      "execution_count": null,
      "outputs": []
    },
    {
      "cell_type": "code",
      "source": [
        "# Check if GPU is available\n",
        "use_gpu = torch.cuda.is_available()"
      ],
      "metadata": {
        "id": "JebMDYYcNTWt"
      },
      "execution_count": null,
      "outputs": []
    },
    {
      "cell_type": "code",
      "source": [
        "# Downsampling convolutional layers from Pretrained ResNet18 with customized upsampling layers\n",
        "class ResColorizationNet(nn.Module):\n",
        "  def __init__(self, input_size=128):\n",
        "    super(ResColorizationNet, self).__init__()\n",
        "    CONV_FEATURE_SIZE = 128\n",
        "\n",
        "    ## First half: ResNet\n",
        "    resnet = models.resnet18(num_classes=365) \n",
        "    # Change first conv layer to accept single-channel (grayscale) input\n",
        "    resnet.conv1.weight = nn.Parameter(resnet.conv1.weight.sum(dim=1).unsqueeze(1)) \n",
        "    # Extract convolutional downsampling layers architecture\n",
        "    self.conv_resnet = nn.Sequential(*list(resnet.children())[0:6])\n",
        "\n",
        "    ## Second half: Upsampling\n",
        "    self.upsample = nn.Sequential(     \n",
        "      nn.Conv2d(CONV_FEATURE_SIZE, 128, kernel_size=3, stride=1, padding=1),\n",
        "      nn.BatchNorm2d(128),\n",
        "      nn.ReLU(),\n",
        "      nn.Upsample(scale_factor=2),\n",
        "      nn.Conv2d(128, 64, kernel_size=3, stride=1, padding=1),\n",
        "      nn.BatchNorm2d(64),\n",
        "      nn.ReLU(),\n",
        "      nn.Conv2d(64, 64, kernel_size=3, stride=1, padding=1),\n",
        "      nn.ReLU(),\n",
        "      nn.Upsample(scale_factor=2),\n",
        "      nn.Conv2d(64, 32, kernel_size=3, stride=1, padding=1),\n",
        "      nn.Sigmoid(),\n",
        "      nn.Conv2d(32, 2, kernel_size=3, stride=1, padding=1),\n",
        "      nn.Upsample(scale_factor=2)\n",
        "    )\n",
        "\n",
        "  def forward(self, input):\n",
        "\n",
        "    # Pass input through ResNet-gray to extract features\n",
        "    conv_features = self.conv_resnet(input)\n",
        "\n",
        "    # Upsample to get colors\n",
        "    output = self.upsample(conv_features)\n",
        "    return output"
      ],
      "metadata": {
        "id": "BDbj81YCU08r"
      },
      "execution_count": null,
      "outputs": []
    },
    {
      "cell_type": "code",
      "source": [
        "# Downsampling convolutional layers from Pretrained AlexNet with customized upsampling layers\n",
        "class AlexColorizationNet(nn.Module):\n",
        "  def __init__(self, input_size=128):\n",
        "    super(AlexColorizationNet, self).__init__()\n",
        "    CONV_FEATURE_SIZE = 256\n",
        "\n",
        "    ## First half: Alexnet\n",
        "    alexnet = models.alexnet(num_classes=365) \n",
        "    # Extract convolutional downsampling layers architecture\n",
        "    self.conv_alexnet = nn.Sequential(*list(alexnet.children())[0][:12])\n",
        "    # Change first conv layer to accept single-channel (grayscale) input\n",
        "    self.conv_alexnet[0].weight=nn.Parameter(self.conv_alexnet[0].weight.sum(dim=1).unsqueeze(1)) \n",
        "\n",
        "    ## Second half: Upsampling\n",
        "    self.upsample = nn.Sequential(  \n",
        "      nn.Conv2d(CONV_FEATURE_SIZE, 128, kernel_size=3, stride=1, padding=1),\n",
        "      nn.BatchNorm2d(128),\n",
        "      nn.ReLU(),\n",
        "      nn.Upsample(scale_factor=3),\n",
        "      nn.Conv2d(128, 64, kernel_size=3, stride=1, padding=1),\n",
        "      nn.BatchNorm2d(64),\n",
        "      nn.ReLU(),\n",
        "      nn.Upsample(scale_factor=3),\n",
        "      nn.Conv2d(64, 32, kernel_size=3, stride=1, padding=1),\n",
        "      nn.Upsample(scale_factor=2),\n",
        "      nn.Sigmoid(),\n",
        "      nn.Conv2d(32, 2, kernel_size=3, stride=1, padding=1),\n",
        "      nn.BatchNorm2d(2),\n",
        "      nn.ReLU(),\n",
        "      nn.Conv2d(2, 2, kernel_size=8, stride=1, padding=0),\n",
        "      nn.LeakyReLU()\n",
        "    )\n",
        "\n",
        "  def forward(self, input):\n",
        "\n",
        "    # Pass input through AlexNet-gray to extract features\n",
        "    conv_features = self.conv_alexnet(input)\n",
        "\n",
        "    # Upsample to get colors\n",
        "    output = self.upsample(conv_features)\n",
        "    return output"
      ],
      "metadata": {
        "id": "0Bu8Nz7mNZOw"
      },
      "execution_count": null,
      "outputs": []
    },
    {
      "cell_type": "code",
      "source": [
        "# Downsampling convolutional layers from Pretrained VGG16 with customized upsampling layers\n",
        "class VGGColorizationNet(nn.Module):\n",
        "  def __init__(self, input_size=128):\n",
        "    super(VGGColorizationNet, self).__init__()\n",
        "    CONV_FEATURE_SIZE = 512\n",
        "\n",
        "    ## First half: ResNet\n",
        "    vggnet = models.vgg16_bn(num_classes=365) \n",
        "    # Extract convolutional downsampling layers architecture\n",
        "    self.conv_vggnet = nn.Sequential(*list(vggnet.children())[:2])\n",
        "    # Change first conv layer to accept single-channel (grayscale) input\n",
        "    self.conv_vggnet[0][0].weight=nn.Parameter(self.conv_vggnet[0][0].weight.sum(dim=1).unsqueeze(1)) \n",
        "\n",
        "    ## Second half: Upsampling\n",
        "    self.upsample = nn.Sequential(\n",
        "          # nn.ReLU(),\n",
        "          nn.ConvTranspose2d(CONV_FEATURE_SIZE, 256, kernel_size=4, stride=2, padding=1),\n",
        "          nn.BatchNorm2d(256),\n",
        "          nn.ReLU(),\n",
        "          nn.ConvTranspose2d(256, 128, kernel_size=4, stride=2, padding=1),\n",
        "          nn.BatchNorm2d(128),\n",
        "          nn.ReLU(),\n",
        "          nn.ConvTranspose2d(128, 64, kernel_size=4, stride=2, padding=1),\n",
        "          nn.BatchNorm2d(64),\n",
        "          nn.LeakyReLU(),\n",
        "          nn.ConvTranspose2d(64, 32, kernel_size=4, stride=2, padding=1),\n",
        "          nn.Sigmoid(),\n",
        "          nn.ConvTranspose2d(32, 2, kernel_size=4, stride=2, padding=1),\n",
        "    )\n",
        "\n",
        "  def forward(self, input):\n",
        "\n",
        "    # Pass input through ResNet-gray to extract features\n",
        "    conv_features = self.conv_vggnet(input)\n",
        "\n",
        "    # Upsample to get colors\n",
        "    output = self.upsample(conv_features)\n",
        "    return output"
      ],
      "metadata": {
        "id": "FaE52sT5stXi"
      },
      "execution_count": null,
      "outputs": []
    },
    {
      "cell_type": "code",
      "source": [
        "# Customized dataloader to apply transformation and convert RGB images into Lab\n",
        "class GrayscaleImageFolder(datasets.ImageFolder):\n",
        "  '''Custom images folder, which converts images to grayscale before loading'''\n",
        "  def __getitem__(self, index):\n",
        "    path, target = self.imgs[index]\n",
        "    img = self.loader(path)\n",
        "    if self.transform is not None:\n",
        "      img_original = self.transform(img)\n",
        "      img_original = np.asarray(img_original)\n",
        "      img_lab = rgb2lab(img_original)\n",
        "      img_lab = (img_lab + 128) / 255\n",
        "      img_ab = img_lab[:, :, 1:3]\n",
        "      img_ab = torch.from_numpy(img_ab.transpose((2, 0, 1))).float()\n",
        "      img_original = rgb2gray(img_original)\n",
        "      img_original = torch.from_numpy(img_original).unsqueeze(0).float()\n",
        "    if self.target_transform is not None:\n",
        "      target = self.target_transform(target)\n",
        "    return img_original, img_ab, target"
      ],
      "metadata": {
        "id": "GsBPtreeNnUF"
      },
      "execution_count": null,
      "outputs": []
    },
    {
      "cell_type": "code",
      "source": [
        "# Training helper\n",
        "class AverageMeter(object):\n",
        "  '''A handy class from the PyTorch ImageNet tutorial''' \n",
        "  def __init__(self):\n",
        "    self.reset()\n",
        "  def reset(self):\n",
        "    self.val, self.avg, self.sum, self.count = 0, 0, 0, 0\n",
        "  def update(self, val, n=1):\n",
        "    self.val = val\n",
        "    self.sum += val * n\n",
        "    self.count += n\n",
        "    self.avg = self.sum / self.count\n",
        "\n",
        "def to_rgb(grayscale_input, ab_input, save_path=None, save_name=None):\n",
        "  '''Show/save rgb image from grayscale and ab channels\n",
        "     Input save_path in the form {'grayscale': '/path/', 'colorized': '/path/'}'''\n",
        "  plt.clf() # clear matplotlib \n",
        "  color_image = torch.cat((grayscale_input, ab_input), 0).numpy() # combine channels\n",
        "  color_image = color_image.transpose((1, 2, 0))  # rescale for matplotlib\n",
        "  color_image[:, :, 0:1] = color_image[:, :, 0:1] * 100\n",
        "  color_image[:, :, 1:3] = color_image[:, :, 1:3] * 255 - 128   \n",
        "  color_image = lab2rgb(color_image.astype(np.float64))\n",
        "  grayscale_input = grayscale_input.squeeze().numpy()\n",
        "  if save_path is not None and save_name is not None: \n",
        "    plt.imsave(arr=grayscale_input, fname='{}{}'.format(save_path['grayscale'], save_name), cmap='gray')\n",
        "    plt.imsave(arr=color_image, fname='{}{}'.format(save_path['colorized'], save_name))"
      ],
      "metadata": {
        "id": "RoXFh-TJRDgB"
      },
      "execution_count": null,
      "outputs": []
    },
    {
      "cell_type": "code",
      "source": [
        "# Model Validation\n",
        "def validate(val_loader, model, criterion, save_images, epoch):\n",
        "  model.eval()\n",
        "\n",
        "  # Prepare value counters and timers\n",
        "  batch_time, data_time, losses = AverageMeter(), AverageMeter(), AverageMeter()\n",
        "\n",
        "  end = time.time()\n",
        "  already_saved_images = False\n",
        "  for i, (input_gray, input_ab, target) in enumerate(val_loader):\n",
        "    data_time.update(time.time() - end)\n",
        "\n",
        "    # Use GPU\n",
        "    if use_gpu: input_gray, input_ab, target = input_gray.cuda(), input_ab.cuda(), target.cuda()\n",
        "\n",
        "    # Run model and record loss\n",
        "    output_ab = model(input_gray) # throw away class predictions\n",
        "    loss = criterion(output_ab, input_ab)\n",
        "    losses.update(loss.item(), input_gray.size(0))\n",
        "\n",
        "    # Save images to file\n",
        "    if save_images and not already_saved_images:\n",
        "      already_saved_images = True\n",
        "      for j in range(min(len(output_ab), 10)): # save at most 5 images\n",
        "        save_path = {'grayscale': 'outputs/gray/', 'colorized': 'outputs/color/'}\n",
        "        save_name = 'img-{}-epoch-{}.jpg'.format(i * val_loader.batch_size + j, epoch)\n",
        "        to_rgb(input_gray[j].cpu(), ab_input=output_ab[j].detach().cpu(), save_path=save_path, save_name=save_name)\n",
        "\n",
        "    # Record time to do forward passes and save images\n",
        "    batch_time.update(time.time() - end)\n",
        "    end = time.time()\n",
        "\n",
        "    # Print model accuracy -- in the code below, val refers to both value and validation\n",
        "    if i % 25 == 0:\n",
        "      print('Validate: [{0}/{1}]\\t'\n",
        "            'Time {batch_time.val:.3f} ({batch_time.avg:.3f})\\t'\n",
        "            'Loss {loss.val:.4f} ({loss.avg:.4f})\\t'.format(\n",
        "             i, len(val_loader), batch_time=batch_time, loss=losses))\n",
        "\n",
        "  print('Finished validation.')\n",
        "  return losses.avg"
      ],
      "metadata": {
        "id": "bAMFJOaQRHy1"
      },
      "execution_count": null,
      "outputs": []
    },
    {
      "cell_type": "code",
      "source": [
        "# Model training\n",
        "def train(train_loader, model, criterion, optimizer, epoch):\n",
        "  print('Starting training epoch {}'.format(epoch))\n",
        "  model.train()\n",
        "  \n",
        "  # Prepare value counters and timers\n",
        "  batch_time, data_time, losses = AverageMeter(), AverageMeter(), AverageMeter()\n",
        "\n",
        "  end = time.time()\n",
        "  for i, (input_gray, input_ab, target) in enumerate(train_loader):\n",
        "    \n",
        "    # Use GPU if available\n",
        "    if use_gpu: input_gray, input_ab, target = input_gray.cuda(), input_ab.cuda(), target.cuda()\n",
        "\n",
        "    # Record time to load data (above)\n",
        "    data_time.update(time.time() - end)\n",
        "\n",
        "    # Run forward pass\n",
        "    output_ab = model(input_gray) \n",
        "    loss = criterion(output_ab, input_ab) \n",
        "    losses.update(loss.item(), input_gray.size(0))\n",
        "\n",
        "    # Compute gradient and optimize\n",
        "    optimizer.zero_grad()\n",
        "    loss.backward()\n",
        "    optimizer.step()\n",
        "\n",
        "    # Record time to do forward and backward passes\n",
        "    batch_time.update(time.time() - end)\n",
        "    end = time.time()\n",
        "\n",
        "    # Print model accuracy -- in the code below, val refers to value, not validation\n",
        "    if i % 25 == 0:\n",
        "      print('Epoch: [{0}][{1}/{2}]\\t'\n",
        "            'Time {batch_time.val:.3f} ({batch_time.avg:.3f})\\t'\n",
        "            'Data {data_time.val:.3f} ({data_time.avg:.3f})\\t'\n",
        "            'Loss {loss.val:.4f} ({loss.avg:.4f})\\t'.format(\n",
        "              epoch, i, len(train_loader), batch_time=batch_time,\n",
        "             data_time=data_time, loss=losses)) \n",
        "\n",
        "  print('Finished training epoch {}'.format(epoch))\n",
        "  return losses.avg"
      ],
      "metadata": {
        "id": "ssHMWsHtRIn5"
      },
      "execution_count": null,
      "outputs": []
    },
    {
      "cell_type": "code",
      "source": [
        "# Choose which architecture to use\n",
        "# candidate CNN structures\n",
        "cnn_str = \"VGGNet\""
      ],
      "metadata": {
        "id": "80e_YXDeopJs"
      },
      "execution_count": null,
      "outputs": []
    },
    {
      "cell_type": "code",
      "source": [
        "# Initialize model\n",
        "if cnn_str == \"ResNet\":\n",
        "  model = ResColorizationNet()\n",
        "elif cnn_str == \"AlexNet\":\n",
        "  model = AlexColorizationNet()\n",
        "elif cnn_str == \"VGGNet\":\n",
        "  model = VGGColorizationNet()"
      ],
      "metadata": {
        "id": "zeTawOuYo4fA"
      },
      "execution_count": null,
      "outputs": []
    },
    {
      "cell_type": "code",
      "source": [
        "# Pick optimizer and loss functions\n",
        "criterion = nn.MSELoss()\n",
        "optimizer = torch.optim.Adam(model.parameters(), lr=1e-2, weight_decay=0) # WD strength: 0 for AlexNet, 0.5 for ResNet,0.9 WD for AlexNet\n",
        "scheduler = torch.optim.lr_scheduler.StepLR(optimizer, step_size=10, gamma=0.1)"
      ],
      "metadata": {
        "id": "fFFBw_jIo62s"
      },
      "execution_count": null,
      "outputs": []
    },
    {
      "cell_type": "code",
      "source": [
        "if cnn_str == \"AlexNet\":\n",
        "  resize = 227\n",
        "else:\n",
        "  resize = 224\n",
        "\n",
        "# Training data loader\n",
        "train_transforms = transforms.Compose([transforms.Resize(resize)])\n",
        "train_imagefolder = GrayscaleImageFolder(\"/content/tiny-imagenet-200/train/\", train_transforms)\n",
        "train_loader = torch.utils.data.DataLoader(train_imagefolder, batch_size=64,shuffle=False,sampler=torch.utils.data.SubsetRandomSampler(range(10000)))\n",
        "\n",
        "# Validation  data loader\n",
        "val_transforms = transforms.Compose([transforms.Resize(resize)])\n",
        "val_imagefolder = GrayscaleImageFolder(\"/content/tiny-imagenet-200/val/\" , val_transforms)\n",
        "val_loader = torch.utils.data.DataLoader(val_imagefolder, batch_size=64, shuffle=False,sampler=torch.utils.data.SubsetRandomSampler(range(1000)))\n"
      ],
      "metadata": {
        "id": "EnpypMb_opqe"
      },
      "execution_count": null,
      "outputs": []
    },
    {
      "cell_type": "code",
      "source": [
        "# Move model and loss function to GPU\n",
        "use_gpu = True\n",
        "if use_gpu: \n",
        "  criterion = criterion.cuda()\n",
        "  model = model.cuda()"
      ],
      "metadata": {
        "id": "HQfthVLZRNKy"
      },
      "execution_count": null,
      "outputs": []
    },
    {
      "cell_type": "code",
      "source": [
        "# Clean up previous created folders\n",
        "shutil.rmtree('outputs/color')\n",
        "shutil.rmtree('outputs/gray/')\n",
        "shutil.rmtree('checkpoints/')"
      ],
      "metadata": {
        "id": "Tstab64tu9p0"
      },
      "execution_count": null,
      "outputs": []
    },
    {
      "cell_type": "code",
      "source": [
        "# Make folders and set parameters\n",
        "os.makedirs('outputs/color', exist_ok=True)\n",
        "os.makedirs('outputs/gray', exist_ok=True)\n",
        "os.makedirs('checkpoints', exist_ok=True)\n",
        "save_images = True\n",
        "best_losses = 1e10\n",
        "epochs = 10"
      ],
      "metadata": {
        "id": "sMaVUNteRRUq"
      },
      "execution_count": null,
      "outputs": []
    },
    {
      "cell_type": "code",
      "source": [
        "from matplotlib.image import NonUniformImage\n",
        "\n",
        "# Train model\n",
        "train_loss =[]\n",
        "val_loss = []\n",
        "best_model = None\n",
        "for epoch in range(epochs):\n",
        "  # Train for one epoch, then validate\n",
        "  train_losses=train(train_loader, model, criterion, optimizer, epoch)\n",
        "  with torch.no_grad():\n",
        "    losses = validate(val_loader, model, criterion, save_images, epoch)\n",
        "  scheduler.step()\n",
        "  val_loss.append(losses)\n",
        "  train_loss.append(train_losses)\n",
        "\n",
        "  # update best model information\n",
        "  if losses < best_losses:\n",
        "    best_losses = losses\n",
        "    best_model = model\n",
        "\n",
        "# Save the best model\n",
        "torch.save(best_model.state_dict(), 'checkpoints/{}-model-losses-{:.3f}.pth'.format(cnn_str,best_losses))\n"
      ],
      "metadata": {
        "id": "dN0mKvBuRYq_",
        "colab": {
          "base_uri": "https://localhost:8080/",
          "height": 1000
        },
        "outputId": "58f54ab6-9d55-4f99-947a-c4764ab3bfb3"
      },
      "execution_count": null,
      "outputs": [
        {
          "output_type": "stream",
          "name": "stdout",
          "text": [
            "Starting training epoch 0\n",
            "Epoch: [0][0/157]\tTime 1.288 (1.288)\tData 1.203 (1.203)\tLoss 0.0103 (0.0103)\t\n",
            "Epoch: [0][25/157]\tTime 1.228 (1.315)\tData 1.176 (1.261)\tLoss 0.0051 (0.0074)\t\n",
            "Epoch: [0][50/157]\tTime 1.215 (1.272)\tData 1.163 (1.219)\tLoss 0.0052 (0.0062)\t\n",
            "Epoch: [0][75/157]\tTime 1.230 (1.261)\tData 1.178 (1.209)\tLoss 0.0041 (0.0057)\t\n",
            "Epoch: [0][100/157]\tTime 1.232 (1.250)\tData 1.181 (1.198)\tLoss 0.0050 (0.0054)\t\n",
            "Epoch: [0][125/157]\tTime 1.208 (1.244)\tData 1.155 (1.192)\tLoss 0.0033 (0.0051)\t\n",
            "Epoch: [0][150/157]\tTime 1.193 (1.239)\tData 1.142 (1.187)\tLoss 0.0045 (0.0051)\t\n",
            "Finished training epoch 0\n",
            "Validate: [0/16]\tTime 1.496 (1.496)\tLoss 0.0035 (0.0035)\t\n",
            "Finished validation.\n",
            "Starting training epoch 1\n",
            "Epoch: [1][0/157]\tTime 1.281 (1.281)\tData 1.197 (1.197)\tLoss 0.0050 (0.0050)\t\n",
            "Epoch: [1][25/157]\tTime 1.221 (1.258)\tData 1.170 (1.206)\tLoss 0.0048 (0.0044)\t\n",
            "Epoch: [1][50/157]\tTime 1.210 (1.237)\tData 1.160 (1.185)\tLoss 0.0046 (0.0044)\t\n",
            "Epoch: [1][75/157]\tTime 1.199 (1.226)\tData 1.149 (1.174)\tLoss 0.0034 (0.0044)\t\n",
            "Epoch: [1][100/157]\tTime 1.222 (1.219)\tData 1.172 (1.168)\tLoss 0.0054 (0.0045)\t\n",
            "Epoch: [1][125/157]\tTime 1.217 (1.216)\tData 1.164 (1.165)\tLoss 0.0030 (0.0045)\t\n",
            "Epoch: [1][150/157]\tTime 1.212 (1.214)\tData 1.162 (1.162)\tLoss 0.0071 (0.0046)\t\n",
            "Finished training epoch 1\n",
            "Validate: [0/16]\tTime 1.481 (1.481)\tLoss 0.0042 (0.0042)\t\n",
            "Finished validation.\n",
            "Starting training epoch 2\n",
            "Epoch: [2][0/157]\tTime 1.317 (1.317)\tData 1.233 (1.233)\tLoss 0.0045 (0.0045)\t\n",
            "Epoch: [2][25/157]\tTime 1.208 (1.199)\tData 1.157 (1.147)\tLoss 0.0048 (0.0046)\t\n",
            "Epoch: [2][50/157]\tTime 1.196 (1.203)\tData 1.146 (1.152)\tLoss 0.0064 (0.0047)\t\n",
            "Epoch: [2][75/157]\tTime 1.234 (1.205)\tData 1.181 (1.153)\tLoss 0.0050 (0.0047)\t\n",
            "Epoch: [2][100/157]\tTime 1.212 (1.207)\tData 1.158 (1.156)\tLoss 0.0040 (0.0046)\t\n",
            "Epoch: [2][125/157]\tTime 1.206 (1.217)\tData 1.154 (1.166)\tLoss 0.0044 (0.0046)\t\n",
            "Epoch: [2][150/157]\tTime 1.194 (1.214)\tData 1.143 (1.162)\tLoss 0.0030 (0.0046)\t\n",
            "Finished training epoch 2\n",
            "Validate: [0/16]\tTime 1.472 (1.472)\tLoss 0.0035 (0.0035)\t\n",
            "Finished validation.\n",
            "Starting training epoch 3\n",
            "Epoch: [3][0/157]\tTime 1.246 (1.246)\tData 1.161 (1.161)\tLoss 0.0038 (0.0038)\t\n",
            "Epoch: [3][25/157]\tTime 1.218 (1.205)\tData 1.167 (1.152)\tLoss 0.0032 (0.0048)\t\n",
            "Epoch: [3][50/157]\tTime 1.184 (1.200)\tData 1.133 (1.148)\tLoss 0.0034 (0.0047)\t\n",
            "Epoch: [3][75/157]\tTime 1.195 (1.199)\tData 1.143 (1.148)\tLoss 0.0052 (0.0047)\t\n",
            "Epoch: [3][100/157]\tTime 1.204 (1.199)\tData 1.154 (1.147)\tLoss 0.0053 (0.0046)\t\n",
            "Epoch: [3][125/157]\tTime 1.192 (1.198)\tData 1.140 (1.146)\tLoss 0.0041 (0.0045)\t\n",
            "Epoch: [3][150/157]\tTime 1.170 (1.197)\tData 1.116 (1.145)\tLoss 0.0043 (0.0046)\t\n",
            "Finished training epoch 3\n",
            "Validate: [0/16]\tTime 1.495 (1.495)\tLoss 0.0037 (0.0037)\t\n",
            "Finished validation.\n",
            "Starting training epoch 4\n",
            "Epoch: [4][0/157]\tTime 1.250 (1.250)\tData 1.165 (1.165)\tLoss 0.0029 (0.0029)\t\n",
            "Epoch: [4][25/157]\tTime 1.249 (1.237)\tData 1.198 (1.184)\tLoss 0.0042 (0.0043)\t\n",
            "Epoch: [4][50/157]\tTime 1.182 (1.213)\tData 1.132 (1.161)\tLoss 0.0028 (0.0043)\t\n",
            "Epoch: [4][75/157]\tTime 1.168 (1.204)\tData 1.117 (1.153)\tLoss 0.0062 (0.0045)\t\n",
            "Epoch: [4][100/157]\tTime 1.193 (1.201)\tData 1.143 (1.150)\tLoss 0.0035 (0.0045)\t\n",
            "Epoch: [4][125/157]\tTime 1.204 (1.201)\tData 1.153 (1.150)\tLoss 0.0044 (0.0046)\t\n",
            "Epoch: [4][150/157]\tTime 1.216 (1.201)\tData 1.165 (1.150)\tLoss 0.0041 (0.0046)\t\n",
            "Finished training epoch 4\n",
            "Validate: [0/16]\tTime 1.487 (1.487)\tLoss 0.0030 (0.0030)\t\n",
            "Finished validation.\n",
            "Starting training epoch 5\n",
            "Epoch: [5][0/157]\tTime 1.273 (1.273)\tData 1.189 (1.189)\tLoss 0.0062 (0.0062)\t\n",
            "Epoch: [5][25/157]\tTime 1.187 (1.195)\tData 1.136 (1.143)\tLoss 0.0041 (0.0045)\t\n",
            "Epoch: [5][50/157]\tTime 1.198 (1.194)\tData 1.147 (1.143)\tLoss 0.0040 (0.0046)\t\n",
            "Epoch: [5][75/157]\tTime 1.211 (1.192)\tData 1.160 (1.141)\tLoss 0.0047 (0.0046)\t\n",
            "Epoch: [5][100/157]\tTime 1.193 (1.193)\tData 1.144 (1.142)\tLoss 0.0042 (0.0046)\t\n",
            "Epoch: [5][125/157]\tTime 1.189 (1.203)\tData 1.138 (1.151)\tLoss 0.0045 (0.0046)\t\n",
            "Epoch: [5][150/157]\tTime 1.212 (1.202)\tData 1.161 (1.151)\tLoss 0.0040 (0.0046)\t\n",
            "Finished training epoch 5\n",
            "Validate: [0/16]\tTime 1.479 (1.479)\tLoss 0.0029 (0.0029)\t\n",
            "Finished validation.\n",
            "Starting training epoch 6\n",
            "Epoch: [6][0/157]\tTime 1.241 (1.241)\tData 1.156 (1.156)\tLoss 0.0040 (0.0040)\t\n",
            "Epoch: [6][25/157]\tTime 1.207 (1.193)\tData 1.155 (1.140)\tLoss 0.0037 (0.0046)\t\n",
            "Epoch: [6][50/157]\tTime 1.185 (1.192)\tData 1.134 (1.141)\tLoss 0.0060 (0.0047)\t\n",
            "Epoch: [6][75/157]\tTime 1.192 (1.193)\tData 1.140 (1.142)\tLoss 0.0051 (0.0047)\t\n",
            "Epoch: [6][100/157]\tTime 1.177 (1.193)\tData 1.126 (1.141)\tLoss 0.0044 (0.0047)\t\n",
            "Epoch: [6][125/157]\tTime 1.197 (1.191)\tData 1.146 (1.140)\tLoss 0.0062 (0.0047)\t\n",
            "Epoch: [6][150/157]\tTime 1.199 (1.192)\tData 1.149 (1.141)\tLoss 0.0047 (0.0046)\t\n",
            "Finished training epoch 6\n",
            "Validate: [0/16]\tTime 1.469 (1.469)\tLoss 0.0049 (0.0049)\t\n",
            "Finished validation.\n",
            "Starting training epoch 7\n",
            "Epoch: [7][0/157]\tTime 1.243 (1.243)\tData 1.159 (1.159)\tLoss 0.0037 (0.0037)\t\n",
            "Epoch: [7][25/157]\tTime 1.208 (1.234)\tData 1.157 (1.181)\tLoss 0.0051 (0.0048)\t\n",
            "Epoch: [7][50/157]\tTime 1.205 (1.216)\tData 1.155 (1.164)\tLoss 0.0047 (0.0046)\t\n",
            "Epoch: [7][75/157]\tTime 1.182 (1.210)\tData 1.131 (1.158)\tLoss 0.0060 (0.0046)\t\n",
            "Epoch: [7][100/157]\tTime 1.190 (1.207)\tData 1.139 (1.156)\tLoss 0.0049 (0.0047)\t\n",
            "Epoch: [7][125/157]\tTime 1.178 (1.206)\tData 1.127 (1.154)\tLoss 0.0033 (0.0046)\t\n",
            "Epoch: [7][150/157]\tTime 1.175 (1.203)\tData 1.125 (1.152)\tLoss 0.0034 (0.0047)\t\n",
            "Finished training epoch 7\n",
            "Validate: [0/16]\tTime 1.457 (1.457)\tLoss 0.0049 (0.0049)\t\n",
            "Finished validation.\n",
            "Starting training epoch 8\n",
            "Epoch: [8][0/157]\tTime 1.236 (1.236)\tData 1.152 (1.152)\tLoss 0.0055 (0.0055)\t\n",
            "Epoch: [8][25/157]\tTime 1.202 (1.202)\tData 1.152 (1.149)\tLoss 0.0040 (0.0051)\t\n",
            "Epoch: [8][50/157]\tTime 1.184 (1.201)\tData 1.135 (1.149)\tLoss 0.0049 (0.0048)\t\n",
            "Epoch: [8][75/157]\tTime 1.309 (1.205)\tData 1.259 (1.154)\tLoss 0.0054 (0.0047)\t\n",
            "Epoch: [8][100/157]\tTime 1.210 (1.218)\tData 1.158 (1.167)\tLoss 0.0039 (0.0047)\t\n",
            "Epoch: [8][125/157]\tTime 1.195 (1.215)\tData 1.145 (1.164)\tLoss 0.0030 (0.0047)\t\n",
            "Epoch: [8][150/157]\tTime 1.208 (1.213)\tData 1.158 (1.162)\tLoss 0.0066 (0.0046)\t\n",
            "Finished training epoch 8\n",
            "Validate: [0/16]\tTime 1.477 (1.477)\tLoss 0.0031 (0.0031)\t\n",
            "Finished validation.\n",
            "Starting training epoch 9\n",
            "Epoch: [9][0/157]\tTime 1.238 (1.238)\tData 1.155 (1.155)\tLoss 0.0057 (0.0057)\t\n",
            "Epoch: [9][25/157]\tTime 1.199 (1.201)\tData 1.149 (1.149)\tLoss 0.0040 (0.0046)\t\n",
            "Epoch: [9][50/157]\tTime 1.248 (1.207)\tData 1.197 (1.155)\tLoss 0.0037 (0.0045)\t\n",
            "Epoch: [9][75/157]\tTime 1.242 (1.215)\tData 1.191 (1.163)\tLoss 0.0054 (0.0046)\t\n",
            "Epoch: [9][100/157]\tTime 1.177 (1.212)\tData 1.126 (1.160)\tLoss 0.0040 (0.0046)\t\n",
            "Epoch: [9][125/157]\tTime 1.211 (1.208)\tData 1.160 (1.157)\tLoss 0.0034 (0.0046)\t\n",
            "Epoch: [9][150/157]\tTime 1.202 (1.206)\tData 1.148 (1.155)\tLoss 0.0056 (0.0046)\t\n",
            "Finished training epoch 9\n",
            "Validate: [0/16]\tTime 1.456 (1.456)\tLoss 0.0034 (0.0034)\t\n",
            "Finished validation.\n"
          ]
        },
        {
          "output_type": "display_data",
          "data": {
            "text/plain": [
              "<Figure size 432x288 with 0 Axes>"
            ]
          },
          "metadata": {}
        }
      ]
    },
    {
      "cell_type": "code",
      "source": [
        "import pandas as pd\n",
        "# output loss report\n",
        "pd.DataFrame({'Epoch':pd.Series(range(epochs)),'Training Loss':pd.Series(train_loss),'Validation Loss':pd.Series(val_loss)}).to_csv(\"MSE.csv\")"
      ],
      "metadata": {
        "id": "5a2gn5ap0tm4"
      },
      "execution_count": null,
      "outputs": []
    },
    {
      "cell_type": "code",
      "source": [
        "import matplotlib.pyplot as plt\n",
        "plt.plot(range(epochs), train_loss, 'r--')\n",
        "plt.plot(range(epochs), val_loss, 'b-')\n",
        "plt.legend(['Training Loss', 'Validation Loss'])\n",
        "plt.xlabel('Epoch')\n",
        "plt.ylabel('Loss')\n",
        "plt.title(cnn_str+' Based Model Loss vs epoch using MSE')\n",
        "plt.show();"
      ],
      "metadata": {
        "colab": {
          "base_uri": "https://localhost:8080/",
          "height": 295
        },
        "id": "O97TRouExM3a",
        "outputId": "d32eb985-c719-47d1-cead-be6e12be5540"
      },
      "execution_count": null,
      "outputs": [
        {
          "output_type": "display_data",
          "data": {
            "text/plain": [
              "<Figure size 432x288 with 1 Axes>"
            ],
            "image/png": "[encoded data removed]"
          },
          "metadata": {
            "needs_background": "light"
          }
        }
      ]
    },
    {
      "cell_type": "code",
      "source": [
        "!zip -r /content/color.zip /content/outputs/color\n",
        "!zip -r /content/gray.zip /content/outputs/gray\n",
        "from google.colab import files\n",
        "files.download(\"/content/color.zip\")\n",
        "files.download(\"/content/gray.zip\")"
      ],
      "metadata": {
        "id": "vZr5HhT61XPH",
        "colab": {
          "base_uri": "https://localhost:8080/",
          "height": 1000
        },
        "outputId": "cc89240f-2f75-4bbb-f8e4-6b6f42f45167"
      },
      "execution_count": null,
      "outputs": [
        {
          "output_type": "stream",
          "name": "stdout",
          "text": [
            "updating: content/outputs/color/ (stored 0%)\n",
            "updating: content/outputs/color/img-9-epoch-3.jpg (deflated 3%)\n",
            "updating: content/outputs/color/img-0-epoch-2.jpg (deflated 2%)\n",
            "updating: content/outputs/color/img-9-epoch-4.jpg (deflated 3%)\n",
            "updating: content/outputs/color/img-4-epoch-8.jpg (deflated 3%)\n",
            "updating: content/outputs/color/img-9-epoch-9.jpg (deflated 2%)\n",
            "updating: content/outputs/color/img-9-epoch-6.jpg (deflated 2%)\n",
            "updating: content/outputs/color/img-5-epoch-6.jpg (deflated 3%)\n",
            "updating: content/outputs/color/img-6-epoch-3.jpg (deflated 3%)\n",
            "updating: content/outputs/color/img-3-epoch-0.jpg (deflated 2%)\n",
            "updating: content/outputs/color/img-5-epoch-4.jpg (deflated 2%)\n",
            "updating: content/outputs/color/img-2-epoch-0.jpg (deflated 2%)\n",
            "updating: content/outputs/color/img-3-epoch-3.jpg (deflated 2%)\n",
            "updating: content/outputs/color/img-4-epoch-9.jpg (deflated 2%)\n",
            "updating: content/outputs/color/img-8-epoch-4.jpg (deflated 2%)\n",
            "updating: content/outputs/color/img-7-epoch-5.jpg (deflated 2%)\n",
            "updating: content/outputs/color/img-1-epoch-1.jpg (deflated 2%)\n",
            "updating: content/outputs/color/img-0-epoch-5.jpg (deflated 2%)\n",
            "updating: content/outputs/color/img-7-epoch-1.jpg (deflated 2%)\n",
            "updating: content/outputs/color/img-2-epoch-6.jpg (deflated 2%)\n",
            "updating: content/outputs/color/img-2-epoch-1.jpg (deflated 2%)\n",
            "updating: content/outputs/color/img-8-epoch-1.jpg (deflated 3%)\n",
            "updating: content/outputs/color/img-8-epoch-7.jpg (deflated 2%)\n",
            "updating: content/outputs/color/img-4-epoch-6.jpg (deflated 2%)\n",
            "updating: content/outputs/color/img-1-epoch-9.jpg (deflated 2%)\n",
            "updating: content/outputs/color/img-5-epoch-3.jpg (deflated 2%)\n",
            "updating: content/outputs/color/img-8-epoch-2.jpg (deflated 2%)\n",
            "updating: content/outputs/color/img-6-epoch-9.jpg (deflated 2%)\n",
            "updating: content/outputs/color/img-5-epoch-9.jpg (deflated 2%)\n",
            "updating: content/outputs/color/img-8-epoch-5.jpg (deflated 2%)\n",
            "updating: content/outputs/color/img-3-epoch-8.jpg (deflated 2%)\n",
            "updating: content/outputs/color/img-8-epoch-3.jpg (deflated 2%)\n",
            "updating: content/outputs/color/img-1-epoch-0.jpg (deflated 2%)\n",
            "updating: content/outputs/color/img-2-epoch-4.jpg (deflated 2%)\n",
            "updating: content/outputs/color/img-1-epoch-3.jpg (deflated 3%)\n",
            "updating: content/outputs/color/img-5-epoch-7.jpg (deflated 2%)\n",
            "updating: content/outputs/color/img-4-epoch-0.jpg (deflated 2%)\n",
            "updating: content/outputs/color/img-1-epoch-4.jpg (deflated 2%)\n",
            "updating: content/outputs/color/img-0-epoch-7.jpg (deflated 3%)\n",
            "updating: content/outputs/color/img-3-epoch-4.jpg (deflated 2%)\n",
            "updating: content/outputs/color/img-3-epoch-9.jpg (deflated 4%)\n",
            "updating: content/outputs/color/img-8-epoch-9.jpg (deflated 5%)\n",
            "updating: content/outputs/color/img-2-epoch-3.jpg (deflated 3%)\n",
            "updating: content/outputs/color/img-7-epoch-4.jpg (deflated 2%)\n",
            "updating: content/outputs/color/img-6-epoch-8.jpg (deflated 2%)\n",
            "updating: content/outputs/color/img-9-epoch-8.jpg (deflated 2%)\n",
            "updating: content/outputs/color/img-3-epoch-1.jpg (deflated 2%)\n",
            "updating: content/outputs/color/img-6-epoch-4.jpg (deflated 1%)\n",
            "updating: content/outputs/color/img-7-epoch-9.jpg (deflated 2%)\n",
            "updating: content/outputs/color/img-9-epoch-0.jpg (deflated 2%)\n",
            "updating: content/outputs/color/img-4-epoch-4.jpg (deflated 1%)\n",
            "updating: content/outputs/color/img-2-epoch-9.jpg (deflated 3%)\n",
            "updating: content/outputs/color/img-8-epoch-0.jpg (deflated 3%)\n",
            "updating: content/outputs/color/img-2-epoch-2.jpg (deflated 2%)\n",
            "updating: content/outputs/color/img-2-epoch-7.jpg (deflated 3%)\n",
            "updating: content/outputs/color/img-4-epoch-1.jpg (deflated 1%)\n",
            "updating: content/outputs/color/img-0-epoch-9.jpg (deflated 2%)\n",
            "updating: content/outputs/color/img-9-epoch-1.jpg (deflated 2%)\n",
            "updating: content/outputs/color/img-7-epoch-7.jpg (deflated 3%)\n",
            "updating: content/outputs/color/img-0-epoch-3.jpg (deflated 3%)\n",
            "updating: content/outputs/color/img-3-epoch-2.jpg (deflated 2%)\n",
            "updating: content/outputs/color/img-0-epoch-6.jpg (deflated 2%)\n",
            "updating: content/outputs/color/img-7-epoch-2.jpg (deflated 2%)\n",
            "updating: content/outputs/color/img-8-epoch-6.jpg (deflated 1%)\n",
            "updating: content/outputs/color/img-6-epoch-7.jpg (deflated 3%)\n",
            "updating: content/outputs/color/img-5-epoch-0.jpg (deflated 2%)\n",
            "updating: content/outputs/color/img-7-epoch-0.jpg (deflated 10%)\n",
            "updating: content/outputs/color/img-9-epoch-7.jpg (deflated 2%)\n",
            "updating: content/outputs/color/img-4-epoch-3.jpg (deflated 4%)\n",
            "updating: content/outputs/color/img-5-epoch-8.jpg (deflated 2%)\n",
            "updating: content/outputs/color/img-7-epoch-8.jpg (deflated 5%)\n",
            "updating: content/outputs/color/img-0-epoch-4.jpg (deflated 1%)\n",
            "updating: content/outputs/color/img-6-epoch-6.jpg (deflated 2%)\n",
            "updating: content/outputs/color/img-5-epoch-5.jpg (deflated 2%)\n",
            "updating: content/outputs/color/img-6-epoch-2.jpg (deflated 2%)\n",
            "updating: content/outputs/color/img-5-epoch-2.jpg (deflated 2%)\n",
            "updating: content/outputs/color/img-1-epoch-5.jpg (deflated 2%)\n",
            "updating: content/outputs/color/img-3-epoch-6.jpg (deflated 2%)\n",
            "updating: content/outputs/color/img-4-epoch-7.jpg (deflated 3%)\n",
            "updating: content/outputs/color/img-3-epoch-5.jpg (deflated 3%)\n",
            "updating: content/outputs/color/img-4-epoch-2.jpg (deflated 3%)\n",
            "updating: content/outputs/color/img-6-epoch-5.jpg (deflated 2%)\n",
            "updating: content/outputs/color/img-6-epoch-1.jpg (deflated 3%)\n",
            "updating: content/outputs/color/img-2-epoch-5.jpg (deflated 2%)\n",
            "updating: content/outputs/color/img-5-epoch-1.jpg (deflated 2%)\n",
            "updating: content/outputs/color/img-7-epoch-6.jpg (deflated 1%)\n",
            "updating: content/outputs/color/img-0-epoch-1.jpg (deflated 2%)\n",
            "updating: content/outputs/color/img-7-epoch-3.jpg (deflated 2%)\n",
            "updating: content/outputs/color/img-8-epoch-8.jpg (deflated 4%)\n",
            "updating: content/outputs/color/img-1-epoch-7.jpg (deflated 2%)\n",
            "updating: content/outputs/color/img-4-epoch-5.jpg (deflated 3%)\n",
            "updating: content/outputs/color/img-3-epoch-7.jpg (deflated 3%)\n",
            "updating: content/outputs/color/img-9-epoch-2.jpg (deflated 5%)\n",
            "updating: content/outputs/color/img-0-epoch-8.jpg (deflated 3%)\n",
            "updating: content/outputs/color/img-1-epoch-8.jpg (deflated 4%)\n",
            "updating: content/outputs/color/img-6-epoch-0.jpg (deflated 2%)\n",
            "updating: content/outputs/color/img-1-epoch-6.jpg (deflated 2%)\n",
            "updating: content/outputs/color/img-1-epoch-2.jpg (deflated 2%)\n",
            "updating: content/outputs/color/img-9-epoch-5.jpg (deflated 2%)\n",
            "updating: content/outputs/color/img-2-epoch-8.jpg (deflated 2%)\n",
            "updating: content/outputs/color/img-0-epoch-0.jpg (deflated 3%)\n",
            "updating: content/outputs/gray/ (stored 0%)\n",
            "updating: content/outputs/gray/img-9-epoch-3.jpg (deflated 2%)\n",
            "updating: content/outputs/gray/img-0-epoch-2.jpg (deflated 2%)\n",
            "updating: content/outputs/gray/img-9-epoch-4.jpg (deflated 3%)\n",
            "updating: content/outputs/gray/img-4-epoch-8.jpg (deflated 3%)\n",
            "updating: content/outputs/gray/img-9-epoch-9.jpg (deflated 2%)\n",
            "updating: content/outputs/gray/img-9-epoch-6.jpg (deflated 2%)\n",
            "updating: content/outputs/gray/img-5-epoch-6.jpg (deflated 3%)\n",
            "updating: content/outputs/gray/img-6-epoch-3.jpg (deflated 3%)\n",
            "updating: content/outputs/gray/img-3-epoch-0.jpg (deflated 2%)\n",
            "updating: content/outputs/gray/img-5-epoch-4.jpg (deflated 2%)\n",
            "updating: content/outputs/gray/img-2-epoch-0.jpg (deflated 2%)\n",
            "updating: content/outputs/gray/img-3-epoch-3.jpg (deflated 2%)\n",
            "updating: content/outputs/gray/img-4-epoch-9.jpg (deflated 2%)\n",
            "updating: content/outputs/gray/img-8-epoch-4.jpg (deflated 3%)\n",
            "updating: content/outputs/gray/img-7-epoch-5.jpg (deflated 2%)\n",
            "updating: content/outputs/gray/img-1-epoch-1.jpg (deflated 2%)\n",
            "updating: content/outputs/gray/img-0-epoch-5.jpg (deflated 2%)\n",
            "updating: content/outputs/gray/img-7-epoch-1.jpg (deflated 2%)\n",
            "updating: content/outputs/gray/img-2-epoch-6.jpg (deflated 2%)\n",
            "updating: content/outputs/gray/img-2-epoch-1.jpg (deflated 2%)\n",
            "updating: content/outputs/gray/img-8-epoch-1.jpg (deflated 3%)\n",
            "updating: content/outputs/gray/img-8-epoch-7.jpg (deflated 2%)\n",
            "updating: content/outputs/gray/img-4-epoch-6.jpg (deflated 2%)\n",
            "updating: content/outputs/gray/img-1-epoch-9.jpg (deflated 2%)\n",
            "updating: content/outputs/gray/img-5-epoch-3.jpg (deflated 2%)\n",
            "updating: content/outputs/gray/img-8-epoch-2.jpg (deflated 2%)\n",
            "updating: content/outputs/gray/img-6-epoch-9.jpg (deflated 2%)\n",
            "updating: content/outputs/gray/img-5-epoch-9.jpg (deflated 2%)\n",
            "updating: content/outputs/gray/img-8-epoch-5.jpg (deflated 2%)\n",
            "updating: content/outputs/gray/img-3-epoch-8.jpg (deflated 3%)\n",
            "updating: content/outputs/gray/img-8-epoch-3.jpg (deflated 3%)\n",
            "updating: content/outputs/gray/img-1-epoch-0.jpg (deflated 2%)\n",
            "updating: content/outputs/gray/img-2-epoch-4.jpg (deflated 2%)\n",
            "updating: content/outputs/gray/img-1-epoch-3.jpg (deflated 3%)\n",
            "updating: content/outputs/gray/img-5-epoch-7.jpg (deflated 2%)\n",
            "updating: content/outputs/gray/img-4-epoch-0.jpg (deflated 2%)\n",
            "updating: content/outputs/gray/img-1-epoch-4.jpg (deflated 2%)\n",
            "updating: content/outputs/gray/img-0-epoch-7.jpg (deflated 3%)\n",
            "updating: content/outputs/gray/img-3-epoch-4.jpg (deflated 2%)\n",
            "updating: content/outputs/gray/img-3-epoch-9.jpg (deflated 4%)\n",
            "updating: content/outputs/gray/img-8-epoch-9.jpg (deflated 4%)\n",
            "updating: content/outputs/gray/img-2-epoch-3.jpg (deflated 2%)\n",
            "updating: content/outputs/gray/img-7-epoch-4.jpg (deflated 2%)\n",
            "updating: content/outputs/gray/img-6-epoch-8.jpg (deflated 2%)\n",
            "updating: content/outputs/gray/img-9-epoch-8.jpg (deflated 2%)\n",
            "updating: content/outputs/gray/img-3-epoch-1.jpg (deflated 3%)\n",
            "updating: content/outputs/gray/img-6-epoch-4.jpg (deflated 1%)\n",
            "updating: content/outputs/gray/img-7-epoch-9.jpg (deflated 2%)\n",
            "updating: content/outputs/gray/img-9-epoch-0.jpg (deflated 2%)\n",
            "updating: content/outputs/gray/img-4-epoch-4.jpg (deflated 2%)\n",
            "updating: content/outputs/gray/img-2-epoch-9.jpg (deflated 3%)\n",
            "updating: content/outputs/gray/img-8-epoch-0.jpg (deflated 3%)\n",
            "updating: content/outputs/gray/img-2-epoch-2.jpg (deflated 2%)\n",
            "updating: content/outputs/gray/img-2-epoch-7.jpg (deflated 3%)\n",
            "updating: content/outputs/gray/img-4-epoch-1.jpg (deflated 2%)\n",
            "updating: content/outputs/gray/img-0-epoch-9.jpg (deflated 2%)\n",
            "updating: content/outputs/gray/img-9-epoch-1.jpg (deflated 2%)\n",
            "updating: content/outputs/gray/img-7-epoch-7.jpg (deflated 3%)\n",
            "updating: content/outputs/gray/img-0-epoch-3.jpg (deflated 3%)\n",
            "updating: content/outputs/gray/img-3-epoch-2.jpg (deflated 3%)\n",
            "updating: content/outputs/gray/img-0-epoch-6.jpg (deflated 2%)\n",
            "updating: content/outputs/gray/img-7-epoch-2.jpg (deflated 2%)\n",
            "updating: content/outputs/gray/img-8-epoch-6.jpg (deflated 2%)\n",
            "updating: content/outputs/gray/img-6-epoch-7.jpg (deflated 3%)\n",
            "updating: content/outputs/gray/img-5-epoch-0.jpg (deflated 2%)\n",
            "updating: content/outputs/gray/img-7-epoch-0.jpg (deflated 12%)\n",
            "updating: content/outputs/gray/img-9-epoch-7.jpg (deflated 2%)\n",
            "updating: content/outputs/gray/img-4-epoch-3.jpg (deflated 5%)\n",
            "updating: content/outputs/gray/img-5-epoch-8.jpg (deflated 2%)\n",
            "updating: content/outputs/gray/img-7-epoch-8.jpg (deflated 5%)\n",
            "updating: content/outputs/gray/img-0-epoch-4.jpg (deflated 2%)\n",
            "updating: content/outputs/gray/img-6-epoch-6.jpg (deflated 2%)\n",
            "updating: content/outputs/gray/img-5-epoch-5.jpg (deflated 2%)\n",
            "updating: content/outputs/gray/img-6-epoch-2.jpg (deflated 2%)\n",
            "updating: content/outputs/gray/img-5-epoch-2.jpg (deflated 2%)\n",
            "updating: content/outputs/gray/img-1-epoch-5.jpg (deflated 2%)\n",
            "updating: content/outputs/gray/img-3-epoch-6.jpg (deflated 2%)\n",
            "updating: content/outputs/gray/img-4-epoch-7.jpg (deflated 2%)\n",
            "updating: content/outputs/gray/img-3-epoch-5.jpg (deflated 3%)\n",
            "updating: content/outputs/gray/img-4-epoch-2.jpg (deflated 4%)\n",
            "updating: content/outputs/gray/img-6-epoch-5.jpg (deflated 2%)\n",
            "updating: content/outputs/gray/img-6-epoch-1.jpg (deflated 3%)\n",
            "updating: content/outputs/gray/img-2-epoch-5.jpg (deflated 2%)\n",
            "updating: content/outputs/gray/img-5-epoch-1.jpg (deflated 2%)\n",
            "updating: content/outputs/gray/img-7-epoch-6.jpg (deflated 2%)\n",
            "updating: content/outputs/gray/img-0-epoch-1.jpg (deflated 2%)\n",
            "updating: content/outputs/gray/img-7-epoch-3.jpg (deflated 2%)\n",
            "updating: content/outputs/gray/img-8-epoch-8.jpg (deflated 4%)\n",
            "updating: content/outputs/gray/img-1-epoch-7.jpg (deflated 3%)\n",
            "updating: content/outputs/gray/img-4-epoch-5.jpg (deflated 3%)\n",
            "updating: content/outputs/gray/img-3-epoch-7.jpg (deflated 3%)\n",
            "updating: content/outputs/gray/img-9-epoch-2.jpg (deflated 5%)\n",
            "updating: content/outputs/gray/img-0-epoch-8.jpg (deflated 3%)\n",
            "updating: content/outputs/gray/img-1-epoch-8.jpg (deflated 3%)\n",
            "updating: content/outputs/gray/img-6-epoch-0.jpg (deflated 2%)\n",
            "updating: content/outputs/gray/img-1-epoch-6.jpg (deflated 2%)\n",
            "updating: content/outputs/gray/img-1-epoch-2.jpg (deflated 2%)\n",
            "updating: content/outputs/gray/img-9-epoch-5.jpg (deflated 2%)\n",
            "updating: content/outputs/gray/img-2-epoch-8.jpg (deflated 2%)\n",
            "updating: content/outputs/gray/img-0-epoch-0.jpg (deflated 4%)\n"
          ]
        },
        {
          "output_type": "display_data",
          "data": {
            "text/plain": [
              "<IPython.core.display.Javascript object>"
            ],
            "application/javascript": [
              "\n",
              "    async function download(id, filename, size) {\n",
              "      if (!google.colab.kernel.accessAllowed) {\n",
              "        return;\n",
              "      }\n",
              "      const div = document.createElement('div');\n",
              "      const label = document.createElement('label');\n",
              "      label.textContent = `Downloading \"${filename}\": `;\n",
              "      div.appendChild(label);\n",
              "      const progress = document.createElement('progress');\n",
              "      progress.max = size;\n",
              "      div.appendChild(progress);\n",
              "      document.body.appendChild(div);\n",
              "\n",
              "      const buffers = [];\n",
              "      let downloaded = 0;\n",
              "\n",
              "      const channel = await google.colab.kernel.comms.open(id);\n",
              "      // Send a message to notify the kernel that we're ready.\n",
              "      channel.send({})\n",
              "\n",
              "      for await (const message of channel.messages) {\n",
              "        // Send a message to notify the kernel that we're ready.\n",
              "        channel.send({})\n",
              "        if (message.buffers) {\n",
              "          for (const buffer of message.buffers) {\n",
              "            buffers.push(buffer);\n",
              "            downloaded += buffer.byteLength;\n",
              "            progress.value = downloaded;\n",
              "          }\n",
              "        }\n",
              "      }\n",
              "      const blob = new Blob(buffers, {type: 'application/binary'});\n",
              "      const a = document.createElement('a');\n",
              "      a.href = window.URL.createObjectURL(blob);\n",
              "      a.download = filename;\n",
              "      div.appendChild(a);\n",
              "      a.click();\n",
              "      div.remove();\n",
              "    }\n",
              "  "
            ]
          },
          "metadata": {}
        },
        {
          "output_type": "display_data",
          "data": {
            "text/plain": [
              "<IPython.core.display.Javascript object>"
            ],
            "application/javascript": [
              "download(\"download_0d5c37ca-2d50-4eb9-b692-7e1b2c6f367e\", \"color.zip\", 699950)"
            ]
          },
          "metadata": {}
        },
        {
          "output_type": "display_data",
          "data": {
            "text/plain": [
              "<IPython.core.display.Javascript object>"
            ],
            "application/javascript": [
              "\n",
              "    async function download(id, filename, size) {\n",
              "      if (!google.colab.kernel.accessAllowed) {\n",
              "        return;\n",
              "      }\n",
              "      const div = document.createElement('div');\n",
              "      const label = document.createElement('label');\n",
              "      label.textContent = `Downloading \"${filename}\": `;\n",
              "      div.appendChild(label);\n",
              "      const progress = document.createElement('progress');\n",
              "      progress.max = size;\n",
              "      div.appendChild(progress);\n",
              "      document.body.appendChild(div);\n",
              "\n",
              "      const buffers = [];\n",
              "      let downloaded = 0;\n",
              "\n",
              "      const channel = await google.colab.kernel.comms.open(id);\n",
              "      // Send a message to notify the kernel that we're ready.\n",
              "      channel.send({})\n",
              "\n",
              "      for await (const message of channel.messages) {\n",
              "        // Send a message to notify the kernel that we're ready.\n",
              "        channel.send({})\n",
              "        if (message.buffers) {\n",
              "          for (const buffer of message.buffers) {\n",
              "            buffers.push(buffer);\n",
              "            downloaded += buffer.byteLength;\n",
              "            progress.value = downloaded;\n",
              "          }\n",
              "        }\n",
              "      }\n",
              "      const blob = new Blob(buffers, {type: 'application/binary'});\n",
              "      const a = document.createElement('a');\n",
              "      a.href = window.URL.createObjectURL(blob);\n",
              "      a.download = filename;\n",
              "      div.appendChild(a);\n",
              "      a.click();\n",
              "      div.remove();\n",
              "    }\n",
              "  "
            ]
          },
          "metadata": {}
        },
        {
          "output_type": "display_data",
          "data": {
            "text/plain": [
              "<IPython.core.display.Javascript object>"
            ],
            "application/javascript": [
              "download(\"download_0b0cf3c1-6600-4419-a57a-cccfb91094f2\", \"gray.zip\", 727075)"
            ]
          },
          "metadata": {}
        }
      ]
    },
    {
      "cell_type": "code",
      "source": [
        "# Video colorization\n",
        "def frame_as_rgb(grayscale_input, ab_input):\n",
        "  color_image = torch.hstack((grayscale_input, ab_input)).squeeze(0) # combine channels\n",
        "  color_image = color_image.permute(1, 2, 0)  # rescale for matplotlib\n",
        "  color_image[:, :, 0:1] = color_image[:, :, 0:1] * 100\n",
        "  color_image[:, :, 1:3] = color_image[:, :, 1:3] * 255 - 128\n",
        "  color_image = lab2rgb(color_image.cpu().detach().numpy().astype(np.float64))\n",
        "  return color_image\n"
      ],
      "metadata": {
        "id": "e2MQoOL-Zj0c"
      },
      "execution_count": null,
      "outputs": []
    },
    {
      "cell_type": "code",
      "source": [
        "cap = cv2.VideoCapture(\"/content/drive/MyDrive/mickymouse.mp4\")\n",
        "fourcc = cv2.VideoWriter_fourcc('m', 'p', '4', 'v')\n",
        "# Get original video features\n",
        "FPS = cap.get(cv2.CAP_PROP_FPS) #number of frames/photos taken per second by the camera\n",
        "w = int(cap.get(cv2.CAP_PROP_FRAME_WIDTH)) #check resolution\n",
        "h = int(cap.get(cv2.CAP_PROP_FRAME_HEIGHT))\n",
        "\n",
        "# setup video writer\n",
        "out = cv2.VideoWriter(\"/content/mickymouse_colorized.mp4\", fourcc, FPS, (w,h), True)\n",
        "\n",
        "f=0\n",
        "\n",
        "device = torch.device(\"cuda\" if torch.cuda.is_available() else \"cpu\")"
      ],
      "metadata": {
        "id": "yEEwwqtpZvBz"
      },
      "execution_count": null,
      "outputs": []
    },
    {
      "cell_type": "code",
      "source": [
        "os.makedirs('/content/video_frame/frame/', exist_ok=True)"
      ],
      "metadata": {
        "id": "VAt4V4afbVOO"
      },
      "execution_count": null,
      "outputs": []
    },
    {
      "cell_type": "code",
      "source": [
        "# Load trained model\n",
        "# Initialize model\n",
        "if cnn_str == \"ResNet\":\n",
        "  model = ResColorizationNet()\n",
        "elif cnn_str == \"AlexNet\":\n",
        "  model = AlexColorizationNet()\n",
        "elif cnn_str == \"VGGNet\":\n",
        "  model = VGGColorizationNet()\n",
        "use_gpu = True\n",
        "if use_gpu: \n",
        "  model = model.cuda()\n",
        "model.load_state_dict(torch.load(\"/content/drive/MyDrive/model-epoch-8-losses-0.047.pth\",\\\n",
        "                                         map_location=device)) # load appropriate model"
      ],
      "metadata": {
        "id": "3loDoiyZZ-7_"
      },
      "execution_count": null,
      "outputs": []
    },
    {
      "cell_type": "code",
      "source": [
        "model.eval()"
      ],
      "metadata": {
        "id": "OBiun9f3bxZZ"
      },
      "execution_count": null,
      "outputs": []
    },
    {
      "cell_type": "code",
      "source": [
        "trans = transforms.Compose([transforms.Resize(256), transforms.CenterCrop(resize)])"
      ],
      "metadata": {
        "id": "gydwTL_waVoi"
      },
      "execution_count": null,
      "outputs": []
    },
    {
      "cell_type": "code",
      "source": [
        "from google.colab.patches import cv2_imshow\n",
        "interim_plot=False"
      ],
      "metadata": {
        "id": "TsxhU0sUi7E2"
      },
      "execution_count": null,
      "outputs": []
    },
    {
      "cell_type": "code",
      "source": [
        "while cap.isOpened():\n",
        "\n",
        "  f+=1\n",
        "  success, frame = cap.read()\n",
        "  if not success:\n",
        "    print(\"Finish reading all frames!\")\n",
        "    break\n",
        "  else:\n",
        "    print(\"Current on frame {}\".format(f))\n",
        "    cv2.imwrite(\"/content/video_frame/frame/temp.jpg\",cv2.resize(frame,(256,256)))\n",
        "    img = GrayscaleImageFolder(\"/content/video_frame/\",trans)\n",
        "    img_loader = torch.utils.data.DataLoader(img,batch_size=1)\n",
        "    for i, (img_gray, _, _) in enumerate(img_loader):\n",
        "      output_ab = model(img_gray.to(device)) # apply model to predict single frame\n",
        "      colored_frame = frame_as_rgb(img_gray.to(device), output_ab.to(device))*255\n",
        "      if interim_plot: # Interim frames checking\n",
        "        cv2_imshow(colored_frame)\n",
        "      out.write(cv2.resize(colored_frame,(w,h)).astype(\"uint8\"))\n",
        "\n",
        "  k = cv2.waitKey(30) & 0xFF #need to open the window(show the photo) in order to close the window\n",
        "  if k==ord('q'): #the q must be entered at the camera window instead of the terminal\n",
        "    break\n",
        "\n",
        "cap.release()\n",
        "out.release()\n",
        "cv2.destroyAllWindows()"
      ],
      "metadata": {
        "id": "vGi0cXawaqdM"
      },
      "execution_count": null,
      "outputs": []
    }
  ]
}