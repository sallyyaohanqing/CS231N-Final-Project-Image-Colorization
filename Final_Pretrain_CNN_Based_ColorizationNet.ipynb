{
  "nbformat": 4,
  "nbformat_minor": 0,
  "metadata": {
    "colab": {
      "name": "Final_Pretrain_CNN_Based_ColorizationNet.ipynb",
      "provenance": [],
      "collapsed_sections": []
    },
    "kernelspec": {
      "name": "python3",
      "display_name": "Python 3"
    },
    "language_info": {
      "name": "python"
    },
    "accelerator": "GPU"
  },
  "cells": [
    {
      "cell_type": "markdown",
      "source": [
        "# Pretrained CNN-Based Image Colorization Net model"
      ],
      "metadata": {
        "id": "6bbTj2j2CDx2"
      }
    },
    {
      "cell_type": "markdown",
      "source": [
        "This colab file includes codes to train CNN model for Image Colorization task.\n",
        "The CNN model combines the downsampling convolutional layers from pretrained model such as ResNet18, AlexNet, and VGG16 with customized upsampling layers.\n",
        "Image data are trained using Lab channels where we use L channel as input and ab channels as target."
      ],
      "metadata": {
        "id": "1gD0lxI19aCb"
      }
    },
    {
      "cell_type": "markdown",
      "source": [
        "### Acknowledgement:\n",
        "The model architecture is inspired by Luke Melas-Kyriazi's blog post $\\textbf{Image Colorization with Convolutional Neural Networks}$: https://lukemelas.github.io/image-colorization.html. Parts of the codes are modified based on the codes the author shared in the blog post and Github: https://github.com/lukemelas/Automatic-Image-Colorization/."
      ],
      "metadata": {
        "id": "a99r7EeCCT00"
      }
    },
    {
      "cell_type": "code",
      "source": [
        "# Download and import libraries\n",
        "!pip install torch torchvision matplotlib numpy scikit-image pillow==4.1.1"
      ],
      "metadata": {
        "id": "aH0dC6LHNLBI"
      },
      "execution_count": null,
      "outputs": []
    },
    {
      "cell_type": "code",
      "source": [
        "!pip install https://github.com/CellProfiling/HPA-Cell-Segmentation/archive/master.zip"
      ],
      "metadata": {
        "id": "ZTgtf52KPc-H"
      },
      "execution_count": null,
      "outputs": []
    },
    {
      "cell_type": "code",
      "source": [
        "!pip install Pillow==9.0.0"
      ],
      "metadata": {
        "id": "ExoNR3xh1Rwo"
      },
      "execution_count": null,
      "outputs": []
    },
    {
      "cell_type": "code",
      "source": [
        "# unzip file\n",
        "import zipfile\n",
        "from google.colab import drive\n",
        "\n",
        "drive.mount('/content/drive')\n",
        "\n",
        "zip_ref = zipfile.ZipFile(\"/content/drive/MyDrive/231N project/tiny-imagenet-200 2.zip\", 'r')\n",
        "zip_ref.extractall(\".\")\n",
        "zip_ref.close()"
      ],
      "metadata": {
        "colab": {
          "base_uri": "https://localhost:8080/"
        },
        "id": "YDIPLSOyi-jH",
        "outputId": "356419da-a3f4-481f-d6d3-acdb36631351"
      },
      "execution_count": 1,
      "outputs": [
        {
          "output_type": "stream",
          "name": "stdout",
          "text": [
            "Mounted at /content/drive\n"
          ]
        }
      ]
    },
    {
      "cell_type": "code",
      "source": [
        "import numpy as np\n",
        "# For plotting\n",
        "import matplotlib.pyplot as plt\n",
        "%matplotlib inline\n",
        "# For conversion between RGB channel and Lab channel\n",
        "from skimage.color import lab2rgb, rgb2lab, rgb2gray\n",
        "from skimage import io\n",
        "# For CNN model\n",
        "import torch\n",
        "import torch.nn as nn\n",
        "import torch.nn.functional as F\n",
        "import torchvision.models as models\n",
        "from torchvision import datasets, transforms\n",
        "# For utilities\n",
        "import os, shutil, time"
      ],
      "metadata": {
        "id": "ZEimdho-NS03"
      },
      "execution_count": 2,
      "outputs": []
    },
    {
      "cell_type": "code",
      "source": [
        "# Check if GPU is available\n",
        "use_gpu = torch.cuda.is_available()"
      ],
      "metadata": {
        "id": "JebMDYYcNTWt"
      },
      "execution_count": 3,
      "outputs": []
    },
    {
      "cell_type": "code",
      "source": [
        "# Downsampling convolutional layers from Pretrained ResNet18 with customized upsampling layers\n",
        "class ResColorizationNet(nn.Module):\n",
        "  def __init__(self, input_size=128):\n",
        "    super(ResColorizationNet, self).__init__()\n",
        "    CONV_FEATURE_SIZE = 128\n",
        "\n",
        "    ## First half: ResNet\n",
        "    resnet = models.resnet18(num_classes=365) \n",
        "    # Change first conv layer to accept single-channel (grayscale) input\n",
        "    resnet.conv1.weight = nn.Parameter(resnet.conv1.weight.sum(dim=1).unsqueeze(1)) \n",
        "    # Extract convolutional downsampling layers architecture\n",
        "    self.conv_resnet = nn.Sequential(*list(resnet.children())[0:6])\n",
        "\n",
        "    ## Second half: Upsampling\n",
        "    self.upsample = nn.Sequential(     \n",
        "      nn.Conv2d(CONV_FEATURE_SIZE, 128, kernel_size=3, stride=1, padding=1),\n",
        "      nn.BatchNorm2d(128),\n",
        "      nn.ReLU(),\n",
        "      nn.Upsample(scale_factor=2),\n",
        "      nn.Conv2d(128, 64, kernel_size=3, stride=1, padding=1),\n",
        "      nn.BatchNorm2d(64),\n",
        "      nn.ReLU(),\n",
        "      nn.Conv2d(64, 64, kernel_size=3, stride=1, padding=1),\n",
        "      nn.ReLU(),\n",
        "      nn.Upsample(scale_factor=2),\n",
        "      nn.Conv2d(64, 32, kernel_size=3, stride=1, padding=1),\n",
        "      nn.Sigmoid(),\n",
        "      nn.Conv2d(32, 2, kernel_size=3, stride=1, padding=1),\n",
        "      nn.Upsample(scale_factor=2)\n",
        "    )\n",
        "\n",
        "  def forward(self, input):\n",
        "\n",
        "    # Pass input through ResNet-gray to extract features\n",
        "    conv_features = self.conv_resnet(input)\n",
        "\n",
        "    # Upsample to get colors\n",
        "    output = self.upsample(conv_features)\n",
        "    return output"
      ],
      "metadata": {
        "id": "BDbj81YCU08r"
      },
      "execution_count": 4,
      "outputs": []
    },
    {
      "cell_type": "code",
      "source": [
        "# Downsampling convolutional layers from Pretrained AlexNet with customized upsampling layers\n",
        "class AlexColorizationNet(nn.Module):\n",
        "  def __init__(self, input_size=128):\n",
        "    super(AlexColorizationNet, self).__init__()\n",
        "    CONV_FEATURE_SIZE = 256\n",
        "\n",
        "    ## First half: Alexnet\n",
        "    alexnet = models.alexnet(num_classes=365) \n",
        "    # Extract convolutional downsampling layers architecture\n",
        "    self.conv_alexnet = nn.Sequential(*list(alexnet.children())[0][:12])\n",
        "    # Change first conv layer to accept single-channel (grayscale) input\n",
        "    self.conv_alexnet[0].weight=nn.Parameter(self.conv_alexnet[0].weight.sum(dim=1).unsqueeze(1)) \n",
        "\n",
        "    ## Second half: Upsampling\n",
        "    self.upsample = nn.Sequential(  \n",
        "      nn.Conv2d(CONV_FEATURE_SIZE, 128, kernel_size=3, stride=1, padding=1),\n",
        "      nn.BatchNorm2d(128),\n",
        "      nn.ReLU(),\n",
        "      nn.Upsample(scale_factor=3),\n",
        "      nn.Conv2d(128, 64, kernel_size=3, stride=1, padding=1),\n",
        "      nn.BatchNorm2d(64),\n",
        "      nn.ReLU(),\n",
        "      nn.Upsample(scale_factor=3),\n",
        "      nn.Conv2d(64, 32, kernel_size=3, stride=1, padding=1),\n",
        "      # nn.BatchNorm2d(32),\n",
        "      # nn.ReLU(),\n",
        "      nn.Upsample(scale_factor=2),\n",
        "      nn.Sigmoid(),\n",
        "      nn.Conv2d(32, 2, kernel_size=3, stride=1, padding=1),\n",
        "      nn.BatchNorm2d(2),\n",
        "      nn.ReLU(),\n",
        "      # nn.Upsample(scale_factor=2),\n",
        "      nn.Conv2d(2, 2, kernel_size=8, stride=1, padding=0),\n",
        "      nn.LeakyReLU()\n",
        "    )\n",
        "\n",
        "  def forward(self, input):\n",
        "\n",
        "    # Pass input through AlexNet-gray to extract features\n",
        "    conv_features = self.conv_alexnet(input)\n",
        "\n",
        "    # Upsample to get colors\n",
        "    output = self.upsample(conv_features)\n",
        "    return output"
      ],
      "metadata": {
        "id": "0Bu8Nz7mNZOw"
      },
      "execution_count": 5,
      "outputs": []
    },
    {
      "cell_type": "code",
      "source": [
        "# Downsampling convolutional layers from Pretrained VGG16 with customized upsampling layers\n",
        "class VGGColorizationNet(nn.Module):\n",
        "  def __init__(self, input_size=128):\n",
        "    super(VGGColorizationNet, self).__init__()\n",
        "    CONV_FEATURE_SIZE = 512\n",
        "\n",
        "    ## First half: ResNet\n",
        "    vggnet = models.vgg16_bn(num_classes=365) \n",
        "    # Extract convolutional downsampling layers architecture\n",
        "    self.conv_vggnet = nn.Sequential(*list(vggnet.children())[:2])\n",
        "    # Change first conv layer to accept single-channel (grayscale) input\n",
        "    self.conv_vggnet[0][0].weight=nn.Parameter(self.conv_vggnet[0][0].weight.sum(dim=1).unsqueeze(1)) \n",
        "\n",
        "    ## Second half: Upsampling\n",
        "    self.upsample = nn.Sequential(\n",
        "          # nn.ReLU(),\n",
        "          nn.ConvTranspose2d(CONV_FEATURE_SIZE, 256, kernel_size=4, stride=2, padding=1),\n",
        "          nn.BatchNorm2d(256),\n",
        "          nn.ReLU(),\n",
        "          nn.ConvTranspose2d(256, 128, kernel_size=4, stride=2, padding=1),\n",
        "          nn.BatchNorm2d(128),\n",
        "          nn.ReLU(),\n",
        "          nn.ConvTranspose2d(128, 64, kernel_size=4, stride=2, padding=1),\n",
        "          nn.BatchNorm2d(64),\n",
        "          nn.ReLU(),\n",
        "          nn.ConvTranspose2d(64, 32, kernel_size=4, stride=2, padding=1),\n",
        "          nn.Sigmoid(),\n",
        "          nn.ConvTranspose2d(32, 2, kernel_size=4, stride=2, padding=1),\n",
        "    )\n",
        "\n",
        "  def forward(self, input):\n",
        "\n",
        "    # Pass input through ResNet-gray to extract features\n",
        "    conv_features = self.conv_vggnet(input)\n",
        "\n",
        "    # Upsample to get colors\n",
        "    output = self.upsample(conv_features)\n",
        "    return output"
      ],
      "metadata": {
        "id": "FaE52sT5stXi"
      },
      "execution_count": 6,
      "outputs": []
    },
    {
      "cell_type": "code",
      "source": [
        "# Customized dataloader to apply transformation and convert RGB images into Lab\n",
        "class GrayscaleImageFolder(datasets.ImageFolder):\n",
        "  '''Custom images folder, which converts images to grayscale before loading'''\n",
        "  def __getitem__(self, index):\n",
        "    path, target = self.imgs[index]\n",
        "    img = self.loader(path)\n",
        "    if self.transform is not None:\n",
        "      img_original = self.transform(img)\n",
        "      img_original = np.asarray(img_original)\n",
        "      img_lab = rgb2lab(img_original)\n",
        "      img_lab = (img_lab + 128) / 255\n",
        "      img_ab = img_lab[:, :, 1:3]\n",
        "      img_ab = torch.from_numpy(img_ab.transpose((2, 0, 1))).float()\n",
        "      img_original = rgb2gray(img_original)\n",
        "      img_original = torch.from_numpy(img_original).unsqueeze(0).float()\n",
        "    if self.target_transform is not None:\n",
        "      target = self.target_transform(target)\n",
        "    return img_original, img_ab, target"
      ],
      "metadata": {
        "id": "GsBPtreeNnUF"
      },
      "execution_count": 7,
      "outputs": []
    },
    {
      "cell_type": "code",
      "source": [
        "# Training helper\n",
        "class AverageMeter(object):\n",
        "  '''A handy class from the PyTorch ImageNet tutorial''' \n",
        "  def __init__(self):\n",
        "    self.reset()\n",
        "  def reset(self):\n",
        "    self.val, self.avg, self.sum, self.count = 0, 0, 0, 0\n",
        "  def update(self, val, n=1):\n",
        "    self.val = val\n",
        "    self.sum += val * n\n",
        "    self.count += n\n",
        "    self.avg = self.sum / self.count\n",
        "\n",
        "def to_rgb(grayscale_input, ab_input, save_path=None, save_name=None):\n",
        "  '''Show/save rgb image from grayscale and ab channels\n",
        "     Input save_path in the form {'grayscale': '/path/', 'colorized': '/path/'}'''\n",
        "  plt.clf() # clear matplotlib \n",
        "  color_image = torch.cat((grayscale_input, ab_input), 0).numpy() # combine channels\n",
        "  color_image = color_image.transpose((1, 2, 0))  # rescale for matplotlib\n",
        "  color_image[:, :, 0:1] = color_image[:, :, 0:1] * 100\n",
        "  color_image[:, :, 1:3] = color_image[:, :, 1:3] * 255 - 128   \n",
        "  color_image = lab2rgb(color_image.astype(np.float64))\n",
        "  grayscale_input = grayscale_input.squeeze().numpy()\n",
        "  if save_path is not None and save_name is not None: \n",
        "    plt.imsave(arr=grayscale_input, fname='{}{}'.format(save_path['grayscale'], save_name), cmap='gray')\n",
        "    plt.imsave(arr=color_image, fname='{}{}'.format(save_path['colorized'], save_name))"
      ],
      "metadata": {
        "id": "RoXFh-TJRDgB"
      },
      "execution_count": 8,
      "outputs": []
    },
    {
      "cell_type": "code",
      "source": [
        "# Model Validation\n",
        "def validate(val_loader, model, criterion, save_images, epoch):\n",
        "  model.eval()\n",
        "\n",
        "  # Prepare value counters and timers\n",
        "  batch_time, data_time, losses = AverageMeter(), AverageMeter(), AverageMeter()\n",
        "\n",
        "  end = time.time()\n",
        "  already_saved_images = False\n",
        "  for i, (input_gray, input_ab, target) in enumerate(val_loader):\n",
        "    data_time.update(time.time() - end)\n",
        "\n",
        "    # Use GPU\n",
        "    if use_gpu: input_gray, input_ab, target = input_gray.cuda(), input_ab.cuda(), target.cuda()\n",
        "\n",
        "    # Run model and record loss\n",
        "    output_ab = model(input_gray) # throw away class predictions\n",
        "    loss = criterion(output_ab, input_ab)\n",
        "    losses.update(loss.item(), input_gray.size(0))\n",
        "\n",
        "    # Save images to file\n",
        "    if save_images and not already_saved_images:\n",
        "      already_saved_images = True\n",
        "      for j in range(min(len(output_ab), 10)): # save at most 5 images\n",
        "        save_path = {'grayscale': 'outputs/gray/', 'colorized': 'outputs/color/'}\n",
        "        save_name = 'img-{}-epoch-{}.jpg'.format(i * val_loader.batch_size + j, epoch)\n",
        "        to_rgb(input_gray[j].cpu(), ab_input=output_ab[j].detach().cpu(), save_path=save_path, save_name=save_name)\n",
        "\n",
        "    # Record time to do forward passes and save images\n",
        "    batch_time.update(time.time() - end)\n",
        "    end = time.time()\n",
        "\n",
        "    # Print model accuracy -- in the code below, val refers to both value and validation\n",
        "    if i % 25 == 0:\n",
        "      print('Validate: [{0}/{1}]\\t'\n",
        "            'Time {batch_time.val:.3f} ({batch_time.avg:.3f})\\t'\n",
        "            'Loss {loss.val:.4f} ({loss.avg:.4f})\\t'.format(\n",
        "             i, len(val_loader), batch_time=batch_time, loss=losses))\n",
        "\n",
        "  print('Finished validation.')\n",
        "  return losses.avg"
      ],
      "metadata": {
        "id": "bAMFJOaQRHy1"
      },
      "execution_count": 9,
      "outputs": []
    },
    {
      "cell_type": "code",
      "source": [
        "# Model training\n",
        "def train(train_loader, model, criterion, optimizer, epoch):\n",
        "  print('Starting training epoch {}'.format(epoch))\n",
        "  model.train()\n",
        "  \n",
        "  # Prepare value counters and timers\n",
        "  batch_time, data_time, losses = AverageMeter(), AverageMeter(), AverageMeter()\n",
        "\n",
        "  end = time.time()\n",
        "  for i, (input_gray, input_ab, target) in enumerate(train_loader):\n",
        "    \n",
        "    # Use GPU if available\n",
        "    if use_gpu: input_gray, input_ab, target = input_gray.cuda(), input_ab.cuda(), target.cuda()\n",
        "\n",
        "    # Record time to load data (above)\n",
        "    data_time.update(time.time() - end)\n",
        "\n",
        "    # Run forward pass\n",
        "    output_ab = model(input_gray) \n",
        "    loss = criterion(output_ab, input_ab) \n",
        "    losses.update(loss.item(), input_gray.size(0))\n",
        "\n",
        "    # Compute gradient and optimize\n",
        "    optimizer.zero_grad()\n",
        "    loss.backward()\n",
        "    optimizer.step()\n",
        "\n",
        "    # Record time to do forward and backward passes\n",
        "    batch_time.update(time.time() - end)\n",
        "    end = time.time()\n",
        "\n",
        "    # Print model accuracy -- in the code below, val refers to value, not validation\n",
        "    if i % 25 == 0:\n",
        "      print('Epoch: [{0}][{1}/{2}]\\t'\n",
        "            'Time {batch_time.val:.3f} ({batch_time.avg:.3f})\\t'\n",
        "            'Data {data_time.val:.3f} ({data_time.avg:.3f})\\t'\n",
        "            'Loss {loss.val:.4f} ({loss.avg:.4f})\\t'.format(\n",
        "              epoch, i, len(train_loader), batch_time=batch_time,\n",
        "             data_time=data_time, loss=losses)) \n",
        "\n",
        "  print('Finished training epoch {}'.format(epoch))\n",
        "  return losses.avg"
      ],
      "metadata": {
        "id": "ssHMWsHtRIn5"
      },
      "execution_count": 10,
      "outputs": []
    },
    {
      "cell_type": "code",
      "source": [
        "# Choose which architecture to use\n",
        "# candidate CNN structures\n",
        "cnn_str = \"ResNet\""
      ],
      "metadata": {
        "id": "80e_YXDeopJs"
      },
      "execution_count": 11,
      "outputs": []
    },
    {
      "cell_type": "code",
      "source": [
        "# Initialize model\n",
        "if cnn_str == \"ResNet\":\n",
        "  model = ResColorizationNet()\n",
        "elif cnn_str == \"AlexNet\":\n",
        "  model = AlexColorizationNet()\n",
        "elif cnn_str == \"VGGNet\":\n",
        "  model = VGGColorizationNet()"
      ],
      "metadata": {
        "id": "zeTawOuYo4fA"
      },
      "execution_count": 39,
      "outputs": []
    },
    {
      "cell_type": "code",
      "source": [
        "# Pick optimizer and loss functions\n",
        "criterion = nn.MSELoss()\n",
        "optimizer = torch.optim.Adam(model.parameters(), lr=1e-2, weight_decay=0.5)\n",
        "scheduler = torch.optim.lr_scheduler.StepLR(optimizer, step_size=10, gamma=0.1)"
      ],
      "metadata": {
        "id": "fFFBw_jIo62s"
      },
      "execution_count": 40,
      "outputs": []
    },
    {
      "cell_type": "code",
      "source": [
        "if cnn_str == \"AlexNet\":\n",
        "  resize = 227\n",
        "else:\n",
        "  resize = 224\n",
        "\n",
        "# Training data loader\n",
        "train_transforms = transforms.Compose([transforms.Resize(resize)])\n",
        "train_imagefolder = GrayscaleImageFolder(\"/content/tiny-imagenet-200/train/\", train_transforms)\n",
        "train_loader = torch.utils.data.DataLoader(train_imagefolder, batch_size=64,shuffle=False,sampler=torch.utils.data.SubsetRandomSampler(range(10000)))\n",
        "\n",
        "# Validation  data loader\n",
        "val_transforms = transforms.Compose([transforms.Resize(resize)])\n",
        "val_imagefolder = GrayscaleImageFolder(\"/content/tiny-imagenet-200/val/\" , val_transforms)\n",
        "val_loader = torch.utils.data.DataLoader(val_imagefolder, batch_size=64, shuffle=False,sampler=torch.utils.data.SubsetRandomSampler(range(1000)))\n"
      ],
      "metadata": {
        "id": "EnpypMb_opqe"
      },
      "execution_count": 41,
      "outputs": []
    },
    {
      "cell_type": "code",
      "source": [
        "# Move model and loss function to GPU\n",
        "use_gpu = True\n",
        "if use_gpu: \n",
        "  criterion = criterion.cuda()\n",
        "  model = model.cuda()"
      ],
      "metadata": {
        "id": "HQfthVLZRNKy"
      },
      "execution_count": 42,
      "outputs": []
    },
    {
      "cell_type": "code",
      "source": [
        "# Clean up previous created folders\n",
        "shutil.rmtree('outputs/color')\n",
        "shutil.rmtree('outputs/gray/')\n",
        "shutil.rmtree('checkpoints/')"
      ],
      "metadata": {
        "id": "Tstab64tu9p0"
      },
      "execution_count": 43,
      "outputs": []
    },
    {
      "cell_type": "code",
      "source": [
        "# Make folders and set parameters\n",
        "os.makedirs('outputs/color', exist_ok=True)\n",
        "os.makedirs('outputs/gray', exist_ok=True)\n",
        "os.makedirs('checkpoints', exist_ok=True)\n",
        "save_images = True\n",
        "best_losses = 1e10\n",
        "epochs = 10"
      ],
      "metadata": {
        "id": "sMaVUNteRRUq"
      },
      "execution_count": 44,
      "outputs": []
    },
    {
      "cell_type": "code",
      "source": [
        "from matplotlib.image import NonUniformImage\n",
        "\n",
        "# Train model\n",
        "train_loss =[]\n",
        "val_loss = []\n",
        "best_model = None\n",
        "for epoch in range(epochs):\n",
        "  # Train for one epoch, then validate\n",
        "  train_losses=train(train_loader, model, criterion, optimizer, epoch)\n",
        "  with torch.no_grad():\n",
        "    losses = validate(val_loader, model, criterion, save_images, epoch)\n",
        "  scheduler.step()\n",
        "  val_loss.append(losses)\n",
        "  train_loss.append(train_losses)\n",
        "\n",
        "  # update best model information\n",
        "  if losses < best_losses:\n",
        "    best_losses = losses\n",
        "    best_model = model\n",
        "\n",
        "# Save the best model\n",
        "torch.save(best_model.state_dict(), 'checkpoints/{}-model-losses-{:.3f}.pth'.format(cnn_str,best_losses))\n"
      ],
      "metadata": {
        "id": "dN0mKvBuRYq_"
      },
      "execution_count": null,
      "outputs": []
    },
    {
      "cell_type": "code",
      "source": [
        "import pandas as pd\n",
        "# output loss report\n",
        "pd.DataFrame({'Epoch':pd.Series(range(epochs)),'Training Loss':pd.Series(train_loss),'Validation Loss':pd.Series(val_loss)}).to_csv(\"MSE.csv\")"
      ],
      "metadata": {
        "id": "5a2gn5ap0tm4"
      },
      "execution_count": 69,
      "outputs": []
    },
    {
      "cell_type": "code",
      "source": [
        "import matplotlib.pyplot as plt\n",
        "plt.plot(range(epochs), train_loss, 'r--')\n",
        "plt.plot(range(epochs), val_loss, 'b-')\n",
        "plt.legend(['Training Loss', 'Validation Loss'])\n",
        "plt.xlabel('Epoch')\n",
        "plt.ylabel('Loss')\n",
        "plt.title(cnn_str+' Based Model Loss vs epoch using MSE')\n",
        "plt.show();"
      ],
      "metadata": {
        "colab": {
          "base_uri": "https://localhost:8080/",
          "height": 295
        },
        "id": "O97TRouExM3a",
        "outputId": "3ceec35a-3713-4ff4-9160-c928fcb2e1ae"
      },
      "execution_count": 70,
      "outputs": [
        {
          "output_type": "display_data",
          "data": {
            "text/plain": [
              "<Figure size 432x288 with 1 Axes>"
            ],
            "image/png": "[encoded data removed]"
          },
          "metadata": {
            "needs_background": "light"
          }
        }
      ]
    },
    {
      "cell_type": "code",
      "source": [
        "!zip -r /content/color.zip /content/outputs/color\n",
        "!zip -r /content/gray.zip /content/outputs/gray\n",
        "from google.colab import files\n",
        "files.download(\"/content/color.zip\")\n",
        "files.download(\"/content/gray.zip\")"
      ],
      "metadata": {
        "id": "vZr5HhT61XPH"
      },
      "execution_count": null,
      "outputs": []
    },
    {
      "cell_type": "code",
      "source": [
        "# Video colorization\n",
        "def frame_as_rgb(grayscale_input, ab_input):\n",
        "  color_image = torch.hstack((grayscale_input, ab_input)).squeeze(0) # combine channels\n",
        "  color_image = color_image.permute(1, 2, 0)  # rescale for matplotlib\n",
        "  color_image[:, :, 0:1] = color_image[:, :, 0:1] * 100\n",
        "  color_image[:, :, 1:3] = color_image[:, :, 1:3] * 255 - 128\n",
        "  color_image = lab2rgb(color_image.cpu().detach().numpy().astype(np.float64))\n",
        "  return color_image\n"
      ],
      "metadata": {
        "id": "e2MQoOL-Zj0c"
      },
      "execution_count": null,
      "outputs": []
    },
    {
      "cell_type": "code",
      "source": [
        "cap = cv2.VideoCapture(\"/content/drive/MyDrive/mickymouse.mp4\")\n",
        "fourcc = cv2.VideoWriter_fourcc('m', 'p', '4', 'v')\n",
        "# Get original video features\n",
        "FPS = cap.get(cv2.CAP_PROP_FPS) #number of frames/photos taken per second by the camera\n",
        "w = int(cap.get(cv2.CAP_PROP_FRAME_WIDTH)) #check resolution\n",
        "h = int(cap.get(cv2.CAP_PROP_FRAME_HEIGHT))\n",
        "\n",
        "# setup video writer\n",
        "out = cv2.VideoWriter(\"/content/mickymouse_colorized.mp4\", fourcc, FPS, (w,h), True)\n",
        "\n",
        "f=0\n",
        "\n",
        "device = torch.device(\"cuda\" if torch.cuda.is_available() else \"cpu\")"
      ],
      "metadata": {
        "id": "yEEwwqtpZvBz"
      },
      "execution_count": null,
      "outputs": []
    },
    {
      "cell_type": "code",
      "source": [
        "os.makedirs('/content/video_frame/frame/', exist_ok=True)"
      ],
      "metadata": {
        "id": "VAt4V4afbVOO"
      },
      "execution_count": null,
      "outputs": []
    },
    {
      "cell_type": "code",
      "source": [
        "# Load trained model\n",
        "# Initialize model\n",
        "if cnn_str == \"ResNet\":\n",
        "  model = ResColorizationNet()\n",
        "elif cnn_str == \"AlexNet\":\n",
        "  model = AlexColorizationNet()\n",
        "elif cnn_str == \"VGGNet\":\n",
        "  model = VGGColorizationNet()\n",
        "use_gpu = True\n",
        "if use_gpu: \n",
        "  model = model.cuda()\n",
        "model.load_state_dict(torch.load(\"/content/drive/MyDrive/model-epoch-8-losses-0.047.pth\",\\\n",
        "                                         map_location=device)) # load appropriate model"
      ],
      "metadata": {
        "id": "3loDoiyZZ-7_"
      },
      "execution_count": null,
      "outputs": []
    },
    {
      "cell_type": "code",
      "source": [
        "model.eval()"
      ],
      "metadata": {
        "id": "OBiun9f3bxZZ"
      },
      "execution_count": null,
      "outputs": []
    },
    {
      "cell_type": "code",
      "source": [
        "trans = transforms.Compose([transforms.Resize(256), transforms.CenterCrop(resize)])"
      ],
      "metadata": {
        "id": "gydwTL_waVoi"
      },
      "execution_count": null,
      "outputs": []
    },
    {
      "cell_type": "code",
      "source": [
        "from google.colab.patches import cv2_imshow\n",
        "interim_plot=False"
      ],
      "metadata": {
        "id": "TsxhU0sUi7E2"
      },
      "execution_count": null,
      "outputs": []
    },
    {
      "cell_type": "code",
      "source": [
        "while cap.isOpened():\n",
        "\n",
        "  f+=1\n",
        "  success, frame = cap.read()\n",
        "  if not success:\n",
        "    print(\"Finish reading all frames!\")\n",
        "    break\n",
        "  else:\n",
        "    print(\"Current on frame {}\".format(f))\n",
        "    cv2.imwrite(\"/content/video_frame/frame/temp.jpg\",cv2.resize(frame,(256,256)))\n",
        "    img = GrayscaleImageFolder(\"/content/video_frame/\",trans)\n",
        "    img_loader = torch.utils.data.DataLoader(img,batch_size=1)\n",
        "    for i, (img_gray, _, _) in enumerate(img_loader):\n",
        "      output_ab = model(img_gray.to(device)) # apply model to predict single frame\n",
        "      colored_frame = frame_as_rgb(img_gray.to(device), output_ab.to(device))*255\n",
        "      if interim_plot: # Interim frames checking\n",
        "        cv2_imshow(colored_frame)\n",
        "      out.write(cv2.resize(colored_frame,(w,h)).astype(\"uint8\"))\n",
        "\n",
        "  k = cv2.waitKey(30) & 0xFF #need to open the window(show the photo) in order to close the window\n",
        "  if k==ord('q'): #the q must be entered at the camera window instead of the terminal\n",
        "    break\n",
        "\n",
        "cap.release()\n",
        "out.release()\n",
        "cv2.destroyAllWindows()"
      ],
      "metadata": {
        "id": "vGi0cXawaqdM"
      },
      "execution_count": null,
      "outputs": []
    }
  ]
}